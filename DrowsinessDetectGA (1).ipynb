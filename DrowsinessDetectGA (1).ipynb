{
 "cells": [
  {
   "cell_type": "markdown",
   "metadata": {},
   "source": [
    "# DROWSINESS DETECTION USING OPENCV AND DLIB "
   ]
  },
  {
   "cell_type": "markdown",
   "metadata": {},
   "source": [
    "####   PROJECT BY SURUCHI KUMARI"
   ]
  },
  {
   "cell_type": "code",
   "execution_count": 1,
   "metadata": {},
   "outputs": [
    {
     "name": "stdout",
     "output_type": "stream",
     "text": [
      "Requirement already satisfied: scipy in c:\\users\\suruchi kumari\\appdata\\local\\programs\\python\\python310\\lib\\site-packages (1.8.1)\n",
      "Requirement already satisfied: numpy<1.25.0,>=1.17.3 in c:\\users\\suruchi kumari\\appdata\\local\\programs\\python\\python310\\lib\\site-packages (from scipy) (1.22.4)\n",
      "Note: you may need to restart the kernel to use updated packages.\n"
     ]
    }
   ],
   "source": [
    "pip install scipy"
   ]
  },
  {
   "cell_type": "code",
   "execution_count": 2,
   "metadata": {},
   "outputs": [
    {
     "name": "stdout",
     "output_type": "stream",
     "text": [
      "pip 22.1.1 from C:\\Users\\SURUCHI KUMARI\\AppData\\Local\\Programs\\Python\\Python310\\lib\\site-packages\\pip (python 3.10)\n",
      "\n",
      "Note: you may need to restart the kernel to use updated packages.\n"
     ]
    }
   ],
   "source": [
    "pip --version"
   ]
  },
  {
   "cell_type": "code",
   "execution_count": 3,
   "metadata": {},
   "outputs": [
    {
     "name": "stdout",
     "output_type": "stream",
     "text": [
      "Requirement already satisfied: pip in c:\\users\\suruchi kumari\\appdata\\local\\programs\\python\\python310\\lib\\site-packages (22.1.1)\n"
     ]
    }
   ],
   "source": [
    "!pip install --upgrade pip"
   ]
  },
  {
   "cell_type": "code",
   "execution_count": 4,
   "metadata": {},
   "outputs": [
    {
     "name": "stdout",
     "output_type": "stream",
     "text": [
      "Requirement already satisfied: opencv-python in c:\\users\\suruchi kumari\\appdata\\local\\programs\\python\\python310\\lib\\site-packages (4.5.5.64)\n",
      "Requirement already satisfied: numpy>=1.19.3 in c:\\users\\suruchi kumari\\appdata\\local\\programs\\python\\python310\\lib\\site-packages (from opencv-python) (1.22.4)\n",
      "Note: you may need to restart the kernel to use updated packages.\n"
     ]
    }
   ],
   "source": [
    "pip install opencv-python"
   ]
  },
  {
   "cell_type": "code",
   "execution_count": 5,
   "metadata": {},
   "outputs": [
    {
     "name": "stdout",
     "output_type": "stream",
     "text": [
      "Requirement already satisfied: cmake in c:\\users\\suruchi kumari\\appdata\\local\\programs\\python\\python310\\lib\\site-packages (3.22.4)\n",
      "Note: you may need to restart the kernel to use updated packages.\n"
     ]
    }
   ],
   "source": [
    "pip install cmake"
   ]
  },
  {
   "cell_type": "code",
   "execution_count": 6,
   "metadata": {},
   "outputs": [
    {
     "name": "stdout",
     "output_type": "stream",
     "text": [
      "Requirement already satisfied: wheel in c:\\users\\suruchi kumari\\appdata\\local\\programs\\python\\python310\\lib\\site-packages (0.37.1)Note: you may need to restart the kernel to use updated packages.\n",
      "\n"
     ]
    }
   ],
   "source": [
    "pip install wheel"
   ]
  },
  {
   "cell_type": "code",
   "execution_count": 7,
   "metadata": {},
   "outputs": [
    {
     "name": "stdout",
     "output_type": "stream",
     "text": [
      "Requirement already satisfied: dlib in c:\\users\\suruchi kumari\\appdata\\local\\programs\\python\\python310\\lib\\site-packages (19.22.99)\n",
      "Note: you may need to restart the kernel to use updated packages.\n"
     ]
    }
   ],
   "source": [
    "pip install dlib"
   ]
  },
  {
   "cell_type": "code",
   "execution_count": 8,
   "metadata": {},
   "outputs": [],
   "source": [
    "# import the necessary packages\n",
    "from scipy.spatial import distance as dist\n",
    "from threading import Thread\n",
    "import numpy as np\n",
    "import cv2\n",
    "import time\n",
    "import dlib\n",
    "#import playsound\n",
    "detector =  dlib.get_frontal_face_detector()\n",
    "predictor = dlib.shape_predictor(\"shape_predictor_68_face_landmarks.dat\")"
   ]
  },
  {
   "cell_type": "code",
   "execution_count": 9,
   "metadata": {},
   "outputs": [],
   "source": [
    "import numpy as np"
   ]
  },
  {
   "cell_type": "code",
   "execution_count": 10,
   "metadata": {},
   "outputs": [],
   "source": [
    "def fetching_landmarks(image):\n",
    "    gray = cv2.cvtColor(image, cv2.COLOR_BGR2GRAY)\n",
    "    rects = detector(gray, 0)\n",
    "    \n",
    "    \n",
    "    \n",
    "    if len(rects)>1:\n",
    "        return\"error\"\n",
    "    if len(rects)== 0:\n",
    "        return\"error\"\n",
    "    return np.matrix([[p.x, p.y] for p in predictor(gray, rects[0]).parts()])"
   ]
  },
  {
   "cell_type": "code",
   "execution_count": 11,
   "metadata": {},
   "outputs": [],
   "source": [
    "def annotate_landmarks(image, landmarks):\n",
    "    image =image.copy()\n",
    "    for idx,point in enumerate(landmarks):\n",
    "        pos=(point[0,0],point[0,1])\n",
    "        cv2.putText(image,str(idx),pos,fontFace=cv2.FONT_HERSHEY_SCRIPT_SIMPLEX,fontScale=0.4,color=(255,255,0))\n",
    "        cv2.circle(image,pos,3,color=(0,0,255))\n",
    "    return image    \n",
    "\n",
    "def top_lip(landmarks):\n",
    "    top_lip_pts = []\n",
    "    for i in range(50,53):\n",
    "        top_lip_pts.append(landmarks[i])\n",
    "    for i in range(61,64):\n",
    "        top_lip_pts.append(landmarks[i])\n",
    "    top_lip_mean = np.mean(top_lip_pts, axis=0)\n",
    "    return int(top_lip_mean[:,1])\n",
    "\n",
    "def bottom_lip(landmarks):\n",
    "    bottom_lip_pts = []\n",
    "    for i in range(65,68):\n",
    "        bottom_lip_pts.append(landmarks[i])\n",
    "    for i in range(56,59):\n",
    "        bottom_lip_pts.append(landmarks[i])\n",
    "    bottom_lip_mean = np.mean(bottom_lip_pts, axis=0)\n",
    "    return int(bottom_lip_mean[:,1])\n",
    "\n"
   ]
  },
  {
   "cell_type": "code",
   "execution_count": 12,
   "metadata": {},
   "outputs": [],
   "source": [
    "def eye_aspect_ratio(eye_pts):\n",
    "\n",
    "    A = dist.euclidean(eye_pts[1], eye_pts[5])\n",
    "    B = dist.euclidean(eye_pts[2], eye_pts[4])\n",
    "    C = dist.euclidean(eye_pts[0], eye_pts[3])\n",
    "\n",
    "    ear = (A + B) / (2.0 * C)\n",
    "    return ear\n",
    "\n",
    "def left_eye_landmark(landmarks):\n",
    "    left_eye_pts = []\n",
    "    for i in range(36,42):\n",
    "        left_eye_pts.append(landmarks[i])\n",
    "    return(eye_aspect_ratio(left_eye_pts))\n",
    "\n",
    "def right_eye_landmark(landmarks):\n",
    "    right_eye_pts = []\n",
    "    for i in range(42,48):\n",
    "        right_eye_pts.append(landmarks[i])\n",
    "    return(eye_aspect_ratio(right_eye_pts))\n",
    "    "
   ]
  },
  {
   "cell_type": "code",
   "execution_count": 13,
   "metadata": {},
   "outputs": [],
   "source": [
    "def drowsiness_detect(image):\n",
    "    landmarks= fetching_landmarks(image)\n",
    "    \n",
    "    \n",
    "    if landmarks ==\"error\":\n",
    "        return 0,0,image\n",
    "    \n",
    "    image_with_landmarks= annotate_landmarks(image, landmarks)\n",
    "    top_lip_center=top_lip(landmarks)\n",
    "    bottom_lip_center = bottom_lip(landmarks)\n",
    "    lip_distance = abs(top_lip_center - bottom_lip_center)\n",
    "    leftEAR = left_eye_landmark(landmarks)\n",
    "    rightEAR = right_eye_landmark(landmarks)\n",
    "    ear = (leftEAR + rightEAR) / 2.0\n",
    "    return ear, lip_distance, image_with_landmarks"
   ]
  },
  {
   "cell_type": "code",
   "execution_count": 14,
   "metadata": {},
   "outputs": [],
   "source": [
    "## THRESHOLD VALUES\n",
    "EYE_THRESH = 0.3\n",
    "EYE_CONSEC_FRAMES = 20\n",
    "\n",
    "COUNTER_4_YAWN = 0\n",
    "COUNTER_4_EYE = 0\n",
    "#ALARM_ON = False\n",
    "\n",
    "LIP_THRESH = 24\n",
    "LIP_CONSEC_FRAME = 5\n"
   ]
  },
  {
   "cell_type": "code",
   "execution_count": null,
   "metadata": {},
   "outputs": [],
   "source": [
    "\n",
    "vs = cv2.VideoCapture(0)\n",
    "\n",
    "while True:\n",
    "    check,frame = vs.read()\n",
    "    ear, lip_distance, image_with_landmarks = drowsiness_detect(frame)\n",
    "    if lip_distance > LIP_THRESH:\n",
    "        COUNTER_4_YAWN += 1\n",
    "        if COUNTER_4_YAWN >= LIP_CONSEC_FRAME:\n",
    "            cv2.putText(frame,\"FEELING SLEEPY   TAKE REST \", (50,450),cv2.FONT_HERSHEY_COMPLEX,1,(0,0,255),2)\n",
    "    else:\n",
    "        COUNTER_4_YAWN = 0\n",
    "        \n",
    "    if ear < EYE_THRESH:\n",
    "        COUNTER_4_EYE += 1\n",
    "        if COUNTER_4_EYE >= EYE_CONSEC_FRAMES:\n",
    "            cv2.putText(frame, \"DROWSINESS ALERT!\", (10, 30),\n",
    "                        cv2.FONT_HERSHEY_SIMPLEX, 0.7, (0, 0, 255), 2)\n",
    "    else:\n",
    "        COUNTER_4_EYE = 0\n",
    "            \n",
    "    cv2.putText(frame, \"EAR: {:.2f}\".format(ear), (460, 30),\n",
    "                cv2.FONT_HERSHEY_SIMPLEX, 0.7, (0, 0, 255), 2)\n",
    "        \n",
    " \n",
    "    cv2.imshow(\"Frame\", frame)\n",
    "    cv2.imshow(\"Landmarks\", image_with_landmarks)\n",
    "    key = cv2.waitKey(1) & 0xFF\n",
    " \n",
    "\n",
    "    if key == ord(\"q\"):\n",
    "        break\n",
    "\n",
    "\n",
    "vs.release()\n",
    "cv2.destroyAllWindows()\n",
    "\n"
   ]
  }
 ],
 "metadata": {
  "kernelspec": {
   "display_name": "Python 3 (ipykernel)",
   "language": "python",
   "name": "python3"
  },
  "language_info": {
   "codemirror_mode": {
    "name": "ipython",
    "version": 3
   },
   "file_extension": ".py",
   "mimetype": "text/x-python",
   "name": "python",
   "nbconvert_exporter": "python",
   "pygments_lexer": "ipython3",
   "version": "3.10.4"
  }
 },
 "nbformat": 4,
 "nbformat_minor": 4
}
